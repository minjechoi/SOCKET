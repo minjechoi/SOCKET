{
 "cells": [
  {
   "cell_type": "code",
   "execution_count": 1,
   "id": "f097c49f-1f63-42ca-990b-3742a7025ac1",
   "metadata": {
    "ExecuteTime": {
     "end_time": "2023-10-10T22:44:59.695711Z",
     "start_time": "2023-10-10T22:44:59.074402Z"
    }
   },
   "outputs": [],
   "source": [
    "import datasets\n",
    "from datasets import load_dataset"
   ]
  },
  {
   "cell_type": "code",
   "execution_count": 2,
   "id": "72cc5efc-ba18-4abf-b377-5349056b6d49",
   "metadata": {
    "ExecuteTime": {
     "end_time": "2023-10-10T22:45:01.201682Z",
     "start_time": "2023-10-10T22:45:00.227936Z"
    }
   },
   "outputs": [
    {
     "name": "stderr",
     "output_type": "stream",
     "text": [
      "Found cached dataset socket (/home/minje/.cache/huggingface/datasets/Blablablab___socket/humor-pairs/1.1.0/cb8b931df06e23a0647d6c743902181a4d961640b9036a77acf3a222081c8cd2)\n"
     ]
    },
    {
     "name": "stdout",
     "output_type": "stream",
     "text": [
      "58\n"
     ]
    },
    {
     "data": {
      "application/vnd.jupyter.widget-view+json": {
       "model_id": "5d9c467353794a158c7e9bc4e6566865",
       "version_major": 2,
       "version_minor": 0
      },
      "text/plain": [
       "  0%|          | 0/3 [00:00<?, ?it/s]"
      ]
     },
     "metadata": {},
     "output_type": "display_data"
    }
   ],
   "source": [
    "# select task and load dataset from Hugging Face Datasets\n",
    "task='humor-pairs'\n",
    "dataset=load_dataset('Blablablab/SOCKET',task)"
   ]
  },
  {
   "cell_type": "code",
   "execution_count": 3,
   "id": "c7587d39-2895-47ab-9c24-b1d955cdc28e",
   "metadata": {
    "ExecuteTime": {
     "end_time": "2023-10-10T22:45:01.695386Z",
     "start_time": "2023-10-10T22:45:01.688162Z"
    }
   },
   "outputs": [
    {
     "data": {
      "text/plain": [
       "DatasetDict({\n",
       "    train: Dataset({\n",
       "        features: ['text', 'label'],\n",
       "        num_rows: 12076\n",
       "    })\n",
       "    test: Dataset({\n",
       "        features: ['text', 'label'],\n",
       "        num_rows: 1509\n",
       "    })\n",
       "    validation: Dataset({\n",
       "        features: ['text', 'label'],\n",
       "        num_rows: 1510\n",
       "    })\n",
       "})"
      ]
     },
     "execution_count": 3,
     "metadata": {},
     "output_type": "execute_result"
    }
   ],
   "source": [
    "dataset"
   ]
  },
  {
   "cell_type": "code",
   "execution_count": 4,
   "id": "499da9c2-19db-472e-bad4-3f4a2dfcdfba",
   "metadata": {
    "ExecuteTime": {
     "end_time": "2023-10-10T22:45:02.364648Z",
     "start_time": "2023-10-10T22:45:02.357418Z"
    }
   },
   "outputs": [
    {
     "data": {
      "text/plain": [
       "{'text': 'Tiger has played at least 91 days of golf during his presidency and it ’s making him a better president [SEP]  Trump has played at least 91 days of golf during his presidency and it ’s making him a better president',\n",
       " 'label': 0}"
      ]
     },
     "execution_count": 4,
     "metadata": {},
     "output_type": "execute_result"
    }
   ],
   "source": [
    "# load an instance from the training set\n",
    "dataset['train'][0]"
   ]
  },
  {
   "cell_type": "code",
   "execution_count": 5,
   "id": "b38c3190",
   "metadata": {
    "ExecuteTime": {
     "end_time": "2023-10-10T22:45:02.950197Z",
     "start_time": "2023-10-10T22:45:02.946191Z"
    }
   },
   "outputs": [
    {
     "data": {
      "text/plain": [
       "{'text': ['Tiger has played at least 91 days of golf during his presidency and it ’s making him a better president [SEP]  Trump has played at least 91 days of golf during his presidency and it ’s making him a better president',\n",
       "  'Stormy Daniels : I was threatened in 2011 over telling my Trump fiasco  [SEP] Stormy Daniels : I was threatened in 2011 over telling my Trump story',\n",
       "  'Bottled water is bullshit ! [SEP] Bottled cheese is bullshit !',\n",
       "  \"Trump 's Tax Cuts Let Banks Off the Hook for Lousy Souffle Results [SEP] Trump 's Tax Cuts Let Banks Off the Hook for Lousy Trading Results\",\n",
       "  'The Shallow State ’s Need for Attention Is Destroying Trump ’s White House [SEP] The Shallow State ’s Need for marinara Is Destroying Trump ’s White House',\n",
       "  'Texas Democrat risks rising-star status in long-shot race [SEP] Texas Barbecue risks rising-star status in long-shot race',\n",
       "  'Trump Faces Most Consequential Day Of His Autocracy So Far [SEP] Trump Faces Most Consequential Day Of His Presidency So Far',\n",
       "  'Key Dem wants probe on whether Trump tanning broke ethics laws [SEP] Key Dem wants probe on whether Trump payment broke ethics laws',\n",
       "  'Former Panamanian Dictator Manuel Noriega lifting at 83 [SEP] Former Panamanian Dictator Manuel Noriega dead at 83',\n",
       "  'Seth Meyers Grills Kellyanne Conway On Donald Trump ’s Russia Ties [SEP] Seth Meyers Grills kabob On Donald Trump ’s Russia Ties'],\n",
       " 'label': [0, 0, 1, 0, 1, 1, 0, 0, 0, 1]}"
      ]
     },
     "execution_count": 5,
     "metadata": {},
     "output_type": "execute_result"
    }
   ],
   "source": [
    "# load a batch from the training set\n",
    "dataset['train'][0:10]"
   ]
  },
  {
   "cell_type": "code",
   "execution_count": 6,
   "id": "305f4191-5720-49ac-ba50-7f46799b20cd",
   "metadata": {
    "ExecuteTime": {
     "end_time": "2023-10-10T22:45:03.512684Z",
     "start_time": "2023-10-10T22:45:03.503362Z"
    }
   },
   "outputs": [
    {
     "name": "stdout",
     "output_type": "stream",
     "text": [
      "58\n"
     ]
    }
   ],
   "source": [
    "from SOCKET import TASK_DICT"
   ]
  },
  {
   "cell_type": "code",
   "execution_count": 7,
   "id": "d49fc9d5-16ff-41ec-94d3-774f79e0a611",
   "metadata": {
    "ExecuteTime": {
     "end_time": "2023-10-10T22:45:04.117564Z",
     "start_time": "2023-10-10T22:45:04.110075Z"
    }
   },
   "outputs": [
    {
     "data": {
      "text/plain": [
       "{'humor_sarcasm': ['hahackathon#humor_rating',\n",
       "  'humor-pairs',\n",
       "  'sarc',\n",
       "  'tweet_irony',\n",
       "  'hahackathon#is_humor'],\n",
       " 'offensive': ['contextual-abuse#IdentityDirectedAbuse',\n",
       "  'contextual-abuse#PersonDirectedAbuse',\n",
       "  'hahackathon#offense_rating',\n",
       "  'hasbiasedimplication',\n",
       "  'hateoffensive',\n",
       "  'implicit-hate#explicit_hate',\n",
       "  'implicit-hate#implicit_hate',\n",
       "  'implicit-hate#incitement_hate',\n",
       "  'implicit-hate#inferiority_hate',\n",
       "  'implicit-hate#stereotypical_hate',\n",
       "  'implicit-hate#threatening_hate',\n",
       "  'implicit-hate#white_grievance_hate',\n",
       "  'intentyn',\n",
       "  'jigsaw#severe_toxic',\n",
       "  'jigsaw#identity_hate',\n",
       "  'jigsaw#threat',\n",
       "  'jigsaw#obscene',\n",
       "  'jigsaw#insult',\n",
       "  'jigsaw#toxic',\n",
       "  'offensiveyn',\n",
       "  'sexyn',\n",
       "  'talkdown-pairs',\n",
       "  'toxic-span',\n",
       "  'tweet_offensive'],\n",
       " 'sentiment_emotion': ['crowdflower',\n",
       "  'dailydialog',\n",
       "  'emobank#arousal',\n",
       "  'emobank#dominance',\n",
       "  'emobank#valence',\n",
       "  'emotion-span',\n",
       "  'empathy#distress',\n",
       "  'empathy#distress_bin',\n",
       "  'same-side-pairs',\n",
       "  'sentitreebank',\n",
       "  'tweet_emoji',\n",
       "  'tweet_emotion',\n",
       "  'tweet_sentiment'],\n",
       " 'social_factors': ['complaints',\n",
       "  'empathy#empathy',\n",
       "  'empathy#empathy_bin',\n",
       "  'hayati_politeness',\n",
       "  'questionintimacy',\n",
       "  'stanfordpoliteness'],\n",
       " 'trustworthy': ['bragging#brag_achievement',\n",
       "  'bragging#brag_action',\n",
       "  'bragging#brag_possession',\n",
       "  'bragging#brag_trait',\n",
       "  'hypo-l',\n",
       "  'neutralizing-bias-pairs',\n",
       "  'propaganda-span',\n",
       "  'rumor#rumor_bool',\n",
       "  'two-to-lie#receiver_truth',\n",
       "  'two-to-lie#sender_truth']}"
      ]
     },
     "execution_count": 7,
     "metadata": {},
     "output_type": "execute_result"
    }
   ],
   "source": [
    "# tasks for each category\n",
    "TASK_DICT"
   ]
  },
  {
   "cell_type": "code",
   "execution_count": null,
   "id": "549ffbb3-8553-4e47-8b02-e46522ea4514",
   "metadata": {},
   "outputs": [],
   "source": []
  }
 ],
 "metadata": {
  "kernelspec": {
   "display_name": "py311",
   "language": "python",
   "name": "py311"
  },
  "language_info": {
   "codemirror_mode": {
    "name": "ipython",
    "version": 3
   },
   "file_extension": ".py",
   "mimetype": "text/x-python",
   "name": "python",
   "nbconvert_exporter": "python",
   "pygments_lexer": "ipython3",
   "version": "3.11.0"
  },
  "varInspector": {
   "cols": {
    "lenName": 16,
    "lenType": 16,
    "lenVar": 40
   },
   "kernels_config": {
    "python": {
     "delete_cmd_postfix": "",
     "delete_cmd_prefix": "del ",
     "library": "var_list.py",
     "varRefreshCmd": "print(var_dic_list())"
    },
    "r": {
     "delete_cmd_postfix": ") ",
     "delete_cmd_prefix": "rm(",
     "library": "var_list.r",
     "varRefreshCmd": "cat(var_dic_list()) "
    }
   },
   "types_to_exclude": [
    "module",
    "function",
    "builtin_function_or_method",
    "instance",
    "_Feature"
   ],
   "window_display": false
  }
 },
 "nbformat": 4,
 "nbformat_minor": 5
}
